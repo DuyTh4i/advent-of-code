{
 "cells": [
  {
   "cell_type": "markdown",
   "id": "0d3f3f49",
   "metadata": {},
   "source": [
    "https://adventofcode.com/2024/day/1"
   ]
  },
  {
   "cell_type": "code",
   "execution_count": null,
   "id": "2843046e",
   "metadata": {},
   "outputs": [
    {
     "name": "stdout",
     "output_type": "stream",
     "text": [
      "2580760\n"
     ]
    }
   ],
   "source": [
    "with open(\"first.in\", 'r') as file:\n",
    "    left = []\n",
    "    right = []\n",
    "    for line in file:\n",
    "        input = line.strip().split()\n",
    "        left.append(int(input[0]))\n",
    "        right.append(int(input[1]))\n",
    "    left.sort()\n",
    "    right.sort()\n",
    "    result = 0\n",
    "    for i in range(1000):\n",
    "        result += abs(left[i] - right[i])\n",
    "    print(result) "
   ]
  },
  {
   "cell_type": "code",
   "execution_count": null,
   "id": "bddd8dbc",
   "metadata": {},
   "outputs": [
    {
     "name": "stdout",
     "output_type": "stream",
     "text": [
      "25358365\n"
     ]
    }
   ],
   "source": [
    "with open(\"first.in\", 'r') as file:\n",
    "    left = []\n",
    "    right = {}\n",
    "    for line in file:\n",
    "        input = line.strip().split()\n",
    "        left.append(int(input[0]))\n",
    "        if input[1] in right:\n",
    "             right[input[1]] += 1\n",
    "        else: right[input[1]] = 1\n",
    "    result = 0\n",
    "    for i in range(1000):\n",
    "        times = right.get(str(left[i]), 0)\n",
    "        result += left[i] * times\n",
    "    print(result)"
   ]
  }
 ],
 "metadata": {
  "kernelspec": {
   "display_name": "Python 3",
   "language": "python",
   "name": "python3"
  },
  "language_info": {
   "codemirror_mode": {
    "name": "ipython",
    "version": 3
   },
   "file_extension": ".py",
   "mimetype": "text/x-python",
   "name": "python",
   "nbconvert_exporter": "python",
   "pygments_lexer": "ipython3",
   "version": "3.12.1"
  }
 },
 "nbformat": 4,
 "nbformat_minor": 5
}

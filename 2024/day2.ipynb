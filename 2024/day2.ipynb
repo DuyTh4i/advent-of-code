{
 "cells": [
  {
   "cell_type": "markdown",
   "id": "c7cccb65",
   "metadata": {},
   "source": [
    "https://adventofcode.com/2024/day/2"
   ]
  },
  {
   "cell_type": "code",
   "execution_count": null,
   "id": "fa3c3a6b",
   "metadata": {},
   "outputs": [
    {
     "name": "stdout",
     "output_type": "stream",
     "text": [
      "282\n"
     ]
    }
   ],
   "source": [
    "result = 0\n",
    "with open(\"day2.in\", 'r') as file:\n",
    "    for line in file:\n",
    "        input = list(map(int, line.strip().split()))\n",
    "        main_status_asc = input[0] < input[1]\n",
    "        safe = True\n",
    "        for i in range(len(input) - 1):\n",
    "            status_asc = input[i] <= input[i + 1]\n",
    "            if (input[i] - input[i + 1] == 0) or (main_status_asc != status_asc) or (abs(input[i] - input[i + 1]) > 3):\n",
    "                safe = False\n",
    "                break\n",
    "        if(safe):\n",
    "            result += 1\n",
    "    print(result)\n"
   ]
  },
  {
   "cell_type": "code",
   "execution_count": null,
   "id": "7fccbb47",
   "metadata": {},
   "outputs": [
    {
     "name": "stdout",
     "output_type": "stream",
     "text": [
      "349\n"
     ]
    }
   ],
   "source": [
    "def solve(input, limit):\n",
    "    last = input[0]\n",
    "    for level in input[1:]:\n",
    "        if 1 <= level - last <= 3: last = level\n",
    "        elif limit <= 0: return False\n",
    "        else: limit -= 1\n",
    "    return True\n",
    "\n",
    "result = 0\n",
    "with open(\"day2.in\", 'r') as file:\n",
    "    cnt = 0\n",
    "    for line in file:\n",
    "        input = list(map(int, line.strip().split()))\n",
    "        reverse_input = input[::-1]\n",
    "        if any(solve(input[start:], 1 - start) or solve(reverse_input[start:], 1-start) for start in range(1 + 1)):\n",
    "            result += 1\n",
    "    print(result)\n"
   ]
  }
 ],
 "metadata": {
  "kernelspec": {
   "display_name": "Python 3",
   "language": "python",
   "name": "python3"
  },
  "language_info": {
   "codemirror_mode": {
    "name": "ipython",
    "version": 3
   },
   "file_extension": ".py",
   "mimetype": "text/x-python",
   "name": "python",
   "nbconvert_exporter": "python",
   "pygments_lexer": "ipython3",
   "version": "3.12.5"
  }
 },
 "nbformat": 4,
 "nbformat_minor": 5
}

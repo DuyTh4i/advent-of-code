{
 "cells": [
  {
   "cell_type": "markdown",
   "id": "774a6600",
   "metadata": {},
   "source": [
    "https://adventofcode.com/2024/day/4"
   ]
  },
  {
   "cell_type": "code",
   "execution_count": null,
   "id": "27159dcc",
   "metadata": {},
   "outputs": [
    {
     "name": "stdout",
     "output_type": "stream",
     "text": [
      "2646\n"
     ]
    }
   ],
   "source": [
    "coor_x = [1, 0, 1, -1, 0, -1, -1, 1]\n",
    "coor_y = [1, 1, 0, -1, -1, 0, 1, -1]\n",
    "\n",
    "def validate_coor(x, y, edge_x, edge_y):\n",
    "    return x < edge_x and x >= 0 and y < edge_y and y >= 0\n",
    "\n",
    "letters = ['M', 'A', 'S']\n",
    "with open(\"day4.in\",\"r\") as file:\n",
    "    matrix = file.readlines()\n",
    "    result = 0\n",
    "    for x in range(len(matrix)):\n",
    "        for y in range(len(matrix[0]) - 1):\n",
    "            if matrix[x][y] == 'X':\n",
    "                for i in range(8):\n",
    "                    for j in range(3):\n",
    "                        next_x = x + coor_x[i] * (j + 1)\n",
    "                        next_y = y + coor_y[i] * (j + 1)\n",
    "                        if validate_coor(next_x, next_y, len(matrix), len(matrix[0]) - 1) and matrix[next_x][next_y] == letters[j]:\n",
    "                            if j == 2:\n",
    "                                result += 1\n",
    "                        else: break\n",
    "    print(result)\n",
    "                    "
   ]
  }
 ],
 "metadata": {
  "kernelspec": {
   "display_name": "Python 3",
   "language": "python",
   "name": "python3"
  },
  "language_info": {
   "codemirror_mode": {
    "name": "ipython",
    "version": 3
   },
   "file_extension": ".py",
   "mimetype": "text/x-python",
   "name": "python",
   "nbconvert_exporter": "python",
   "pygments_lexer": "ipython3",
   "version": "3.13.5"
  }
 },
 "nbformat": 4,
 "nbformat_minor": 5
}

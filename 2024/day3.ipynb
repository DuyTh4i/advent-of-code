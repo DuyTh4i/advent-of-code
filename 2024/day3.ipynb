{
 "cells": [
  {
   "cell_type": "markdown",
   "id": "483bc370",
   "metadata": {},
   "source": [
    "https://adventofcode.com/2024/day/3"
   ]
  },
  {
   "cell_type": "code",
   "execution_count": 90,
   "id": "b1cc9ab5",
   "metadata": {},
   "outputs": [
    {
     "name": "stdout",
     "output_type": "stream",
     "text": [
      "182780583\n"
     ]
    }
   ],
   "source": [
    "import re\n",
    "with open(\"third.in\", 'r') as file:\n",
    "    matches = re.findall(r\"mul\\((\\d{1,3}),(\\d{1,3})\\)\", file.read())\n",
    "    result = 0\n",
    "    for match in matches:\n",
    "        x, y = map(int, match)\n",
    "        result += x * y\n",
    "    print(result)"
   ]
  },
  {
   "cell_type": "code",
   "execution_count": 101,
   "id": "4f9d5dd4",
   "metadata": {},
   "outputs": [
    {
     "name": "stdout",
     "output_type": "stream",
     "text": [
      "90772405\n"
     ]
    }
   ],
   "source": [
    "import re\n",
    "with open(\"third.in\", 'r') as file:\n",
    "    #mul\\((\\d{1,3}),(\\d{1,3})\\)|do\\(\\)|don't\\(\\)\n",
    "    matches = re.findall(r\"mul\\(\\d{1,3},\\d{1,3}\\)|do\\(\\)|don't\\(\\)\", file.read())\n",
    "    allow = True\n",
    "    result = 0\n",
    "    for match in matches:\n",
    "        if match == \"do()\": allow = True\n",
    "        elif match == \"don't()\": allow = False\n",
    "        else:\n",
    "            if allow: \n",
    "                numbers = re.findall(r\"mul\\((\\d+),(\\d+)\\)\", match)\n",
    "                x, y = map(int, numbers[0])\n",
    "                result += x * y\n",
    "    print(result)"
   ]
  }
 ],
 "metadata": {
  "kernelspec": {
   "display_name": "Python 3",
   "language": "python",
   "name": "python3"
  },
  "language_info": {
   "codemirror_mode": {
    "name": "ipython",
    "version": 3
   },
   "file_extension": ".py",
   "mimetype": "text/x-python",
   "name": "python",
   "nbconvert_exporter": "python",
   "pygments_lexer": "ipython3",
   "version": "3.12.5"
  }
 },
 "nbformat": 4,
 "nbformat_minor": 5
}

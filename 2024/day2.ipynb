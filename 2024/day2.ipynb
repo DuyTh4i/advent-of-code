{
 "cells": [
  {
   "cell_type": "markdown",
   "id": "0d3f3f49",
   "metadata": {},
   "source": [
    "https://adventofcode.com/2024/day/1"
   ]
  },
  {
   "cell_type": "code",
   "execution_count": null,
   "id": "2843046e",
   "metadata": {},
   "outputs": [
    {
     "name": "stdout",
     "output_type": "stream",
     "text": [
      "2580760\n"
     ]
    }
   ],
   "source": [
    "with open(\"first.in\", 'r') as file:\n",
    "    left = []\n",
    "    right = []\n",
    "    for line in file:\n",
    "        input = line.strip().split()\n",
    "        left.append(int(input[0]))\n",
    "        right.append(int(input[1]))\n",
    "    left.sort()\n",
    "    right.sort()\n",
    "    result = 0\n",
    "    for i in range(1000):\n",
    "        result += abs(left[i] - right[i])\n",
    "    print(result) "
   ]
  },
  {
   "cell_type": "code",
   "execution_count": null,
   "id": "bddd8dbc",
   "metadata": {},
   "outputs": [
    {
     "name": "stdout",
     "output_type": "stream",
     "text": [
      "25358365\n"
     ]
    }
   ],
   "source": [
    "with open(\"first.in\", 'r') as file:\n",
    "    left = []\n",
    "    right = {}\n",
    "    for line in file:\n",
    "        input = line.strip().split()\n",
    "        left.append(int(input[0]))\n",
    "        if input[1] in right:\n",
    "             right[input[1]] += 1\n",
    "        else: right[input[1]] = 1\n",
    "    result = 0\n",
    "    for i in range(1000):\n",
    "        times = right.get(str(left[i]), 0)\n",
    "        result += left[i] * times\n",
    "    print(result)"
   ]
  },
  {
   "cell_type": "markdown",
   "id": "c7cccb65",
   "metadata": {},
   "source": [
    "https://adventofcode.com/2024/day/2"
   ]
  },
  {
   "cell_type": "code",
   "execution_count": 77,
   "id": "fa3c3a6b",
   "metadata": {},
   "outputs": [
    {
     "name": "stdout",
     "output_type": "stream",
     "text": [
      "282\n"
     ]
    }
   ],
   "source": [
    "result = 0\n",
    "with open(\"second.in\", 'r') as file:\n",
    "    for line in file:\n",
    "        input = list(map(int, line.strip().split()))\n",
    "        main_status_asc = input[0] < input[1]\n",
    "        safe = True\n",
    "        for i in range(len(input) - 1):\n",
    "            status_asc = input[i] <= input[i + 1]\n",
    "            if (input[i] - input[i + 1] == 0) or (main_status_asc != status_asc) or (abs(input[i] - input[i + 1]) > 3):\n",
    "                safe = False\n",
    "                break\n",
    "        if(safe):\n",
    "            result += 1\n",
    "    print(result)\n"
   ]
  },
  {
   "cell_type": "code",
   "execution_count": null,
   "id": "7fccbb47",
   "metadata": {},
   "outputs": [
    {
     "name": "stdout",
     "output_type": "stream",
     "text": [
      "349\n"
     ]
    }
   ],
   "source": [
    "def solve(input, limit):\n",
    "    last = input[0]\n",
    "    for level in input[1:]:\n",
    "        if 1 <= level - last <= 3: last = level\n",
    "        elif limit <= 0: return False\n",
    "        else: limit -= 1\n",
    "    return True\n",
    "\n",
    "result = 0\n",
    "with open(\"second.in\", 'r') as file:\n",
    "    cnt = 0\n",
    "    for line in file:\n",
    "        input = list(map(int, line.strip().split()))\n",
    "        reverse_input = input[::-1]\n",
    "        if any(solve(input[start:], 1 - start) or solve(reverse_input[start:], 1-start) for start in range(1 + 1)):\n",
    "            result += 1\n",
    "    print(result)\n"
   ]
  },
  {
   "cell_type": "markdown",
   "id": "483bc370",
   "metadata": {},
   "source": [
    "https://adventofcode.com/2024/day/3"
   ]
  },
  {
   "cell_type": "code",
   "execution_count": 90,
   "id": "b1cc9ab5",
   "metadata": {},
   "outputs": [
    {
     "name": "stdout",
     "output_type": "stream",
     "text": [
      "182780583\n"
     ]
    }
   ],
   "source": [
    "import re\n",
    "with open(\"third.in\", 'r') as file:\n",
    "    matches = re.findall(r\"mul\\((\\d{1,3}),(\\d{1,3})\\)\", file.read())\n",
    "    result = 0\n",
    "    for match in matches:\n",
    "        x, y = map(int, match)\n",
    "        result += x * y\n",
    "    print(result)"
   ]
  },
  {
   "cell_type": "code",
   "execution_count": 101,
   "id": "4f9d5dd4",
   "metadata": {},
   "outputs": [
    {
     "name": "stdout",
     "output_type": "stream",
     "text": [
      "90772405\n"
     ]
    }
   ],
   "source": [
    "import re\n",
    "with open(\"third.in\", 'r') as file:\n",
    "    #mul\\((\\d{1,3}),(\\d{1,3})\\)|do\\(\\)|don't\\(\\)\n",
    "    matches = re.findall(r\"mul\\(\\d{1,3},\\d{1,3}\\)|do\\(\\)|don't\\(\\)\", file.read())\n",
    "    allow = True\n",
    "    result = 0\n",
    "    for match in matches:\n",
    "        if match == \"do()\": allow = True\n",
    "        elif match == \"don't()\": allow = False\n",
    "        else:\n",
    "            if allow: \n",
    "                numbers = re.findall(r\"mul\\((\\d+),(\\d+)\\)\", match)\n",
    "                x, y = map(int, numbers[0])\n",
    "                result += x * y\n",
    "    print(result)"
   ]
  },
  {
   "cell_type": "markdown",
   "id": "1d824d37",
   "metadata": {},
   "source": [
    "https://adventofcode.com/2024/day/4"
   ]
  },
  {
   "cell_type": "code",
   "execution_count": null,
   "id": "2751850c",
   "metadata": {},
   "outputs": [],
   "source": []
  }
 ],
 "metadata": {
  "kernelspec": {
   "display_name": "Python 3",
   "language": "python",
   "name": "python3"
  },
  "language_info": {
   "codemirror_mode": {
    "name": "ipython",
    "version": 3
   },
   "file_extension": ".py",
   "mimetype": "text/x-python",
   "name": "python",
   "nbconvert_exporter": "python",
   "pygments_lexer": "ipython3",
   "version": "3.12.5"
  }
 },
 "nbformat": 4,
 "nbformat_minor": 5
}

